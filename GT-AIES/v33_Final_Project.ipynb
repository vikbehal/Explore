{
 "cells": [
  {
   "cell_type": "code",
   "execution_count": 109,
   "id": "da302813",
   "metadata": {},
   "outputs": [],
   "source": [
    "import numpy as np\n",
    "import pandas as pd\n",
    "import matplotlib.pyplot as plt\n",
    "import seaborn as sns"
   ]
  },
  {
   "cell_type": "markdown",
   "id": "19e8002d",
   "metadata": {},
   "source": [
    "# Step 1"
   ]
  },
  {
   "cell_type": "markdown",
   "id": "f755de69",
   "metadata": {},
   "source": [
    "Selected 2020 Census Data from Kaggle. This data is collected by 'University of Texas' students in 2020.\n",
    "Link: https://www.kaggle.com/datasets/takumafujiwara/2020-census-data"
   ]
  },
  {
   "cell_type": "code",
   "execution_count": 46,
   "id": "c8266ed3",
   "metadata": {},
   "outputs": [
    {
     "name": "stdout",
     "output_type": "stream",
     "text": [
      "    age  workclass  fnlwgt  education  educational-num      marital-status  \\\n",
      "0  63.0  State-gov  166860    HS-grad                9  Married-civ-spouse   \n",
      "1  64.0  Local-gov  111745    HS-grad                9  Married-civ-spouse   \n",
      "2  54.0    Private  151825    HS-grad                9            Divorced   \n",
      "3  37.0    Private  174690    HS-grad                9       Never-married   \n",
      "4  35.0    Private  197229  Assoc-voc               11  Married-civ-spouse   \n",
      "\n",
      "         occupation   relationship   race  gender  hours-per-week  \\\n",
      "0   Exec-managerial           Wife  White  Female              40   \n",
      "1  Transport-moving        Husband  White    Male              40   \n",
      "2      Adm-clerical  Not-in-family  White  Female              44   \n",
      "3     Other-service      Own-child  White    Male              21   \n",
      "4    Prof-specialty           Wife  White  Female              40   \n",
      "\n",
      "  native-country  coded-income  tax-bracket income-90k-threshold  \n",
      "0  United-States            22            3                <=90k  \n",
      "1  United-States            18            3                <=90k  \n",
      "2  United-States            17            2                <=90k  \n",
      "3  United-States             4            1                <=90k  \n",
      "4  United-States            18            3                <=90k  \n"
     ]
    }
   ],
   "source": [
    "#Dataset Name: Census Income DataSet\n",
    "# Protected Classes: Age, Sex, Color, National Origin\n",
    "df = pd.read_csv(\"census_2020-v33.csv\")\n",
    "print(df.head())"
   ]
  },
  {
   "cell_type": "code",
   "execution_count": 47,
   "id": "851f852f",
   "metadata": {},
   "outputs": [
    {
     "name": "stdout",
     "output_type": "stream",
     "text": [
      "Total no of observations:  36252\n",
      "Total no of variables:  15\n"
     ]
    }
   ],
   "source": [
    "print(\"Total no of observations: \", df.shape[0])\n",
    "print(\"Total no of variables: \", df.shape[1])"
   ]
  },
  {
   "cell_type": "code",
   "execution_count": 48,
   "id": "5e9c975e",
   "metadata": {},
   "outputs": [
    {
     "name": "stdout",
     "output_type": "stream",
     "text": [
      "Variables in protected classes are: age, race, sex, National Origin\n"
     ]
    }
   ],
   "source": [
    "print(\"Variables in protected classes are: age, race, sex, National Origin\")\n",
    "#Age: (Age Discrimination in Employment Act of 1967) (over 40)\n",
    "#Race: Civil Rights Act of 1964, 1991)\n",
    "#Sex: Equal Pay Act of 1963; Civil Rights Act of 1964, 1991\n",
    "#National Origin: Civil Rights Act of 1964, 1991)"
   ]
  },
  {
   "cell_type": "markdown",
   "id": "12ce9f3d",
   "metadata": {},
   "source": [
    "# Step 2"
   ]
  },
  {
   "cell_type": "code",
   "execution_count": 49,
   "id": "e2799a34",
   "metadata": {},
   "outputs": [
    {
     "name": "stdout",
     "output_type": "stream",
     "text": [
      "race\n",
      "Amer-Indian-Eskimo      402\n",
      "Asian-Pac-Islander     2034\n",
      "Black                  3817\n",
      "Other                   841\n",
      "White                 29158\n",
      "dtype: int64\n"
     ]
    }
   ],
   "source": [
    "# print(\"Race\")\n",
    "print(df.groupby('race').size())"
   ]
  },
  {
   "cell_type": "code",
   "execution_count": 50,
   "id": "1a249324",
   "metadata": {},
   "outputs": [
    {
     "name": "stdout",
     "output_type": "stream",
     "text": [
      "gender\n",
      "Female    16454\n",
      "Male      19798\n",
      "dtype: int64\n"
     ]
    }
   ],
   "source": [
    "# print(\"Sex\")\n",
    "print(df.groupby('gender').size())"
   ]
  },
  {
   "cell_type": "code",
   "execution_count": 62,
   "id": "fc4dc8f6",
   "metadata": {
    "scrolled": false
   },
   "outputs": [
    {
     "name": "stdout",
     "output_type": "stream",
     "text": [
      "0        (57, 71]\n",
      "1        (57, 71]\n",
      "2        (43, 57]\n",
      "3        (29, 43]\n",
      "4        (29, 43]\n",
      "           ...   \n",
      "36247    (29, 43]\n",
      "36248    (57, 71]\n",
      "36249    (29, 43]\n",
      "36250    (43, 57]\n",
      "36251    (29, 43]\n",
      "Name: age_group, Length: 36252, dtype: category\n",
      "Categories (5, interval[int64, right]): [(16, 29] < (29, 43] < (43, 57] < (57, 71] < (71, 85]]\n"
     ]
    }
   ],
   "source": [
    "#df.loc[df['age'] == '120 +', 'age'] = 121\n",
    "df['age'] = pd.to_numeric(df['age']) \n",
    "#Convert column to 5 groups to categorize the values\n",
    "length_interval = np.linspace(df['age'].min()-1,df['age'].max(),6).astype('int')\n",
    "df['age_group'] = pd.cut(df['age'], length_interval)\n",
    "print(df['age_group'])"
   ]
  },
  {
   "cell_type": "code",
   "execution_count": 63,
   "id": "6d2c7cc2",
   "metadata": {},
   "outputs": [
    {
     "name": "stdout",
     "output_type": "stream",
     "text": [
      "age_group\n",
      "(16, 29]     8617\n",
      "(29, 43]    10676\n",
      "(43, 57]     9764\n",
      "(57, 71]     6270\n",
      "(71, 85]      925\n",
      "dtype: int64\n"
     ]
    }
   ],
   "source": [
    "print(df.groupby('age_group').size())"
   ]
  },
  {
   "cell_type": "code",
   "execution_count": 64,
   "id": "5615fadf",
   "metadata": {
    "scrolled": false
   },
   "outputs": [
    {
     "name": "stdout",
     "output_type": "stream",
     "text": [
      "native-country\n",
      "United-States           30937\n",
      "Mexico                   1249\n",
      "India                     404\n",
      "Philippines               240\n",
      "China                     187\n",
      "El-Salvador               173\n",
      "Puerto-Rico               140\n",
      "Vietnam                   134\n",
      "Guatemala                 129\n",
      "Germany                   123\n",
      "Cuba                      113\n",
      "Dominican-Republic        109\n",
      "Canada                    107\n",
      "Columbia                   99\n",
      "Honduras                   87\n",
      "Jamaica                    74\n",
      "Brazil                     71\n",
      "Haiti                      69\n",
      "Pakistan                   64\n",
      "Venezuela                  64\n",
      "Korea                      60\n",
      "Ecuador                    58\n",
      "Japan                      57\n",
      "South-Korea                51\n",
      "Nigeria                    48\n",
      "Ukraine                    46\n",
      "Iran                       44\n",
      "Russia                     43\n",
      "United-Kingdom             43\n",
      "Peru                       42\n",
      "England                    42\n",
      "Taiwan                     41\n",
      "Ethiopia                   38\n",
      "Africa                     37\n",
      "Thailand                   35\n",
      "Poland                     32\n",
      "Ghana                      30\n",
      "Italy                      30\n",
      "Bangladesh                 27\n",
      "Elsewhere                  26\n",
      "France                     26\n",
      "Nepal                      24\n",
      "Trinidad-and-Tobago        24\n",
      "Argentina                  20\n",
      "Hong-Kong                  20\n",
      "South-Africa               20\n",
      "Guyana                     18\n",
      "Egypt                      17\n",
      "Iraq                       17\n",
      "Uganda                     16\n",
      "Afghanistan                16\n",
      "Nicaragua                  15\n",
      "Greece                     15\n",
      "Ireland                    14\n",
      "Portugal                   14\n",
      "Romania                    14\n",
      "Laos                       13\n",
      "Panama                     13\n",
      "Kenya                      13\n",
      "Spain                      12\n",
      "Cambodia                   12\n",
      "Jordan                     12\n",
      "Israel                     12\n",
      "Congo                      12\n",
      "Eritrea                    12\n",
      "Myanmar-(Burma)            11\n",
      "Morocco                    11\n",
      "Syria                      11\n",
      "Bolivia                    10\n",
      "Liberia                    10\n",
      "Lebanon                    10\n",
      "Chile                      10\n",
      "Turkey                      9\n",
      "Asia                        9\n",
      "Sri-Lanka                   9\n",
      "Australia                   9\n",
      "Cape-Verde                  9\n",
      "USSR                        9\n",
      "Moldova                     9\n",
      "Costa-Rica                  9\n",
      "Indonesia                   9\n",
      "Netherlands                 8\n",
      "Cameroon                    8\n",
      "Albania                     8\n",
      "Scotland                    7\n",
      "Bulgaria                    7\n",
      "Uzbekistan                  7\n",
      "Europe                      7\n",
      "Samoa                       7\n",
      "Malaysia                    7\n",
      "Micronesia                  7\n",
      "Georgia                     7\n",
      "Belize                      6\n",
      "West-Indies                 6\n",
      "Sudan                       6\n",
      "Somalia                     6\n",
      "Algeria                     6\n",
      "South-America               6\n",
      "Bosnia-&-Herzegovina        6\n",
      "Saudi-Arabia                5\n",
      "Singapore                   5\n",
      "Azores-                     5\n",
      "Barbados                    5\n",
      "Belarus                     5\n",
      "St.-Lucia                   5\n",
      "Yugoslavia                  5\n",
      "Guam                        5\n",
      "Tonga                       5\n",
      "American-Samoa              5\n",
      "Armenia                     5\n",
      "New-Zealand                 5\n",
      "Yemen                       5\n",
      "Guinea                      4\n",
      "Kazakhstan                  4\n",
      "Ivory-Coast                 4\n",
      "Sweden                      4\n",
      "Togo                        4\n",
      "Hungary                     4\n",
      "Uruguay                     4\n",
      "Belgium                     4\n",
      "Finland                     4\n",
      "Switzerland                 3\n",
      "Zaire                       3\n",
      "Antigua-and-Barbuda         3\n",
      "United-Arab-Emirates        3\n",
      "U.S.-Virgin-Islands         3\n",
      "Bhutan                      3\n",
      "Fiji                        3\n",
      "Bahamas                     3\n",
      "Czech-Republic              3\n",
      "Bermuda                     3\n",
      "Sierra-Leone                3\n",
      "Northern-Ireland            3\n",
      "Azerbaijan                  2\n",
      "Mongolia                    2\n",
      "Denmark                     2\n",
      "Croatia                     2\n",
      "Kuwait                      2\n",
      "Libya                       2\n",
      "Macedonia                   2\n",
      "Paraguay                    2\n",
      "Austria                     2\n",
      "Senegal                     2\n",
      "Serbia                      2\n",
      "Zimbabwe                    2\n",
      "Marshall-Islands            1\n",
      "Northern-Marianas           1\n",
      "Lithuania                   1\n",
      "Norway                      1\n",
      "Americas                    1\n",
      "Latvia                      1\n",
      "Tanzania                    1\n",
      "Czechoslovakia              1\n",
      "Dominica                    1\n",
      "Grenada                     1\n",
      "Zambia                      1\n",
      "dtype: int64\n"
     ]
    }
   ],
   "source": [
    "pd.set_option('display.max_rows', None)\n",
    "print(df.groupby('native-country').size().sort_values(ascending=False))\n",
    "pd.set_option('display.max_rows', 100)"
   ]
  },
  {
   "cell_type": "code",
   "execution_count": 66,
   "id": "2eca1be3",
   "metadata": {},
   "outputs": [],
   "source": [
    "df['native-country2'] = df['native-country']"
   ]
  },
  {
   "cell_type": "code",
   "execution_count": 95,
   "id": "363e4d90",
   "metadata": {},
   "outputs": [],
   "source": [
    "us_others = [x if x == 'United-States' else 'Others' for x in df['native-country2']]"
   ]
  },
  {
   "cell_type": "code",
   "execution_count": 97,
   "id": "8d2990e4",
   "metadata": {},
   "outputs": [],
   "source": [
    "df['native-country2'] = us_others"
   ]
  },
  {
   "cell_type": "code",
   "execution_count": 102,
   "id": "c738655b",
   "metadata": {},
   "outputs": [
    {
     "data": {
      "text/html": [
       "<div>\n",
       "<style scoped>\n",
       "    .dataframe tbody tr th:only-of-type {\n",
       "        vertical-align: middle;\n",
       "    }\n",
       "\n",
       "    .dataframe tbody tr th {\n",
       "        vertical-align: top;\n",
       "    }\n",
       "\n",
       "    .dataframe thead th {\n",
       "        text-align: right;\n",
       "    }\n",
       "</style>\n",
       "<table border=\"1\" class=\"dataframe\">\n",
       "  <thead>\n",
       "    <tr style=\"text-align: right;\">\n",
       "      <th></th>\n",
       "      <th>age</th>\n",
       "      <th>workclass</th>\n",
       "      <th>fnlwgt</th>\n",
       "      <th>education</th>\n",
       "      <th>educational-num</th>\n",
       "      <th>marital-status</th>\n",
       "      <th>occupation</th>\n",
       "      <th>relationship</th>\n",
       "      <th>race</th>\n",
       "      <th>gender</th>\n",
       "      <th>hours-per-week</th>\n",
       "      <th>native-country</th>\n",
       "      <th>coded-income</th>\n",
       "      <th>tax-bracket</th>\n",
       "      <th>income-90k-threshold</th>\n",
       "      <th>age_group</th>\n",
       "      <th>native-country2</th>\n",
       "    </tr>\n",
       "  </thead>\n",
       "  <tbody>\n",
       "    <tr>\n",
       "      <th>36232</th>\n",
       "      <td>57.0</td>\n",
       "      <td>Private</td>\n",
       "      <td>79514</td>\n",
       "      <td>HS-grad</td>\n",
       "      <td>9</td>\n",
       "      <td>Never-married</td>\n",
       "      <td>Other-service</td>\n",
       "      <td>Unmarried</td>\n",
       "      <td>White</td>\n",
       "      <td>Male</td>\n",
       "      <td>40</td>\n",
       "      <td>United-States</td>\n",
       "      <td>18</td>\n",
       "      <td>3</td>\n",
       "      <td>&lt;=90k</td>\n",
       "      <td>(43, 57]</td>\n",
       "      <td>United-States</td>\n",
       "    </tr>\n",
       "    <tr>\n",
       "      <th>36233</th>\n",
       "      <td>57.0</td>\n",
       "      <td>Private</td>\n",
       "      <td>91330</td>\n",
       "      <td>HS-grad</td>\n",
       "      <td>9</td>\n",
       "      <td>Married-spouse-absent</td>\n",
       "      <td>Other-service</td>\n",
       "      <td>Other-relative</td>\n",
       "      <td>Asian-Pac-Islander</td>\n",
       "      <td>Male</td>\n",
       "      <td>40</td>\n",
       "      <td>United-States</td>\n",
       "      <td>17</td>\n",
       "      <td>2</td>\n",
       "      <td>&lt;=90k</td>\n",
       "      <td>(43, 57]</td>\n",
       "      <td>United-States</td>\n",
       "    </tr>\n",
       "    <tr>\n",
       "      <th>36234</th>\n",
       "      <td>54.0</td>\n",
       "      <td>Private</td>\n",
       "      <td>102625</td>\n",
       "      <td>Assoc-acdm</td>\n",
       "      <td>12</td>\n",
       "      <td>Divorced</td>\n",
       "      <td>Other-service</td>\n",
       "      <td>Other-relative</td>\n",
       "      <td>Asian-Pac-Islander</td>\n",
       "      <td>Female</td>\n",
       "      <td>99</td>\n",
       "      <td>United-States</td>\n",
       "      <td>11</td>\n",
       "      <td>2</td>\n",
       "      <td>&lt;=90k</td>\n",
       "      <td>(43, 57]</td>\n",
       "      <td>United-States</td>\n",
       "    </tr>\n",
       "    <tr>\n",
       "      <th>36235</th>\n",
       "      <td>33.0</td>\n",
       "      <td>Private</td>\n",
       "      <td>108813</td>\n",
       "      <td>HS-grad</td>\n",
       "      <td>9</td>\n",
       "      <td>Married-civ-spouse</td>\n",
       "      <td>Other-service</td>\n",
       "      <td>Other-relative</td>\n",
       "      <td>Asian-Pac-Islander</td>\n",
       "      <td>Male</td>\n",
       "      <td>40</td>\n",
       "      <td>United-States</td>\n",
       "      <td>7</td>\n",
       "      <td>2</td>\n",
       "      <td>&lt;=90k</td>\n",
       "      <td>(29, 43]</td>\n",
       "      <td>United-States</td>\n",
       "    </tr>\n",
       "    <tr>\n",
       "      <th>36236</th>\n",
       "      <td>48.0</td>\n",
       "      <td>Private</td>\n",
       "      <td>97970</td>\n",
       "      <td>Assoc-acdm</td>\n",
       "      <td>12</td>\n",
       "      <td>Widowed</td>\n",
       "      <td>Other-service</td>\n",
       "      <td>Not-in-family</td>\n",
       "      <td>Asian-Pac-Islander</td>\n",
       "      <td>Female</td>\n",
       "      <td>25</td>\n",
       "      <td>United-States</td>\n",
       "      <td>5</td>\n",
       "      <td>2</td>\n",
       "      <td>&lt;=90k</td>\n",
       "      <td>(43, 57]</td>\n",
       "      <td>United-States</td>\n",
       "    </tr>\n",
       "    <tr>\n",
       "      <th>36237</th>\n",
       "      <td>35.0</td>\n",
       "      <td>Federal-gov</td>\n",
       "      <td>96289</td>\n",
       "      <td>Prof-school</td>\n",
       "      <td>15</td>\n",
       "      <td>Separated</td>\n",
       "      <td>Prof-specialty</td>\n",
       "      <td>Not-in-family</td>\n",
       "      <td>Asian-Pac-Islander</td>\n",
       "      <td>Male</td>\n",
       "      <td>80</td>\n",
       "      <td>United-States</td>\n",
       "      <td>41</td>\n",
       "      <td>4</td>\n",
       "      <td>&gt;90k</td>\n",
       "      <td>(29, 43]</td>\n",
       "      <td>United-States</td>\n",
       "    </tr>\n",
       "    <tr>\n",
       "      <th>36238</th>\n",
       "      <td>30.0</td>\n",
       "      <td>Private</td>\n",
       "      <td>77248</td>\n",
       "      <td>Assoc-voc</td>\n",
       "      <td>11</td>\n",
       "      <td>Married-spouse-absent</td>\n",
       "      <td>Other-service</td>\n",
       "      <td>Not-in-family</td>\n",
       "      <td>Asian-Pac-Islander</td>\n",
       "      <td>Female</td>\n",
       "      <td>32</td>\n",
       "      <td>United-States</td>\n",
       "      <td>16</td>\n",
       "      <td>2</td>\n",
       "      <td>&lt;=90k</td>\n",
       "      <td>(29, 43]</td>\n",
       "      <td>United-States</td>\n",
       "    </tr>\n",
       "    <tr>\n",
       "      <th>36239</th>\n",
       "      <td>22.0</td>\n",
       "      <td>Self-emp-inc</td>\n",
       "      <td>86157</td>\n",
       "      <td>Assoc-voc</td>\n",
       "      <td>11</td>\n",
       "      <td>Never-married</td>\n",
       "      <td>Exec-managerial</td>\n",
       "      <td>Not-in-family</td>\n",
       "      <td>White</td>\n",
       "      <td>Female</td>\n",
       "      <td>30</td>\n",
       "      <td>United-States</td>\n",
       "      <td>4</td>\n",
       "      <td>1</td>\n",
       "      <td>&lt;=90k</td>\n",
       "      <td>(16, 29]</td>\n",
       "      <td>United-States</td>\n",
       "    </tr>\n",
       "    <tr>\n",
       "      <th>36240</th>\n",
       "      <td>45.0</td>\n",
       "      <td>Self-emp-not-inc</td>\n",
       "      <td>101115</td>\n",
       "      <td>11th</td>\n",
       "      <td>7</td>\n",
       "      <td>Never-married</td>\n",
       "      <td>Transport-moving</td>\n",
       "      <td>Unmarried</td>\n",
       "      <td>Other</td>\n",
       "      <td>Male</td>\n",
       "      <td>40</td>\n",
       "      <td>United-States</td>\n",
       "      <td>37</td>\n",
       "      <td>4</td>\n",
       "      <td>&gt;90k</td>\n",
       "      <td>(43, 57]</td>\n",
       "      <td>United-States</td>\n",
       "    </tr>\n",
       "    <tr>\n",
       "      <th>36241</th>\n",
       "      <td>47.0</td>\n",
       "      <td>Private</td>\n",
       "      <td>106232</td>\n",
       "      <td>Bachelors</td>\n",
       "      <td>13</td>\n",
       "      <td>Never-married</td>\n",
       "      <td>Sales</td>\n",
       "      <td>Not-in-family</td>\n",
       "      <td>Asian-Pac-Islander</td>\n",
       "      <td>Male</td>\n",
       "      <td>45</td>\n",
       "      <td>United-States</td>\n",
       "      <td>27</td>\n",
       "      <td>3</td>\n",
       "      <td>&lt;=90k</td>\n",
       "      <td>(43, 57]</td>\n",
       "      <td>United-States</td>\n",
       "    </tr>\n",
       "    <tr>\n",
       "      <th>36242</th>\n",
       "      <td>48.0</td>\n",
       "      <td>Private</td>\n",
       "      <td>104857</td>\n",
       "      <td>Bachelors</td>\n",
       "      <td>13</td>\n",
       "      <td>Never-married</td>\n",
       "      <td>Exec-managerial</td>\n",
       "      <td>Not-in-family</td>\n",
       "      <td>Other</td>\n",
       "      <td>Male</td>\n",
       "      <td>40</td>\n",
       "      <td>United-States</td>\n",
       "      <td>41</td>\n",
       "      <td>4</td>\n",
       "      <td>&gt;90k</td>\n",
       "      <td>(43, 57]</td>\n",
       "      <td>United-States</td>\n",
       "    </tr>\n",
       "    <tr>\n",
       "      <th>36243</th>\n",
       "      <td>37.0</td>\n",
       "      <td>Private</td>\n",
       "      <td>73008</td>\n",
       "      <td>Bachelors</td>\n",
       "      <td>13</td>\n",
       "      <td>Married-spouse-absent</td>\n",
       "      <td>Exec-managerial</td>\n",
       "      <td>Not-in-family</td>\n",
       "      <td>Asian-Pac-Islander</td>\n",
       "      <td>Male</td>\n",
       "      <td>40</td>\n",
       "      <td>United-States</td>\n",
       "      <td>31</td>\n",
       "      <td>3</td>\n",
       "      <td>&lt;=90k</td>\n",
       "      <td>(29, 43]</td>\n",
       "      <td>United-States</td>\n",
       "    </tr>\n",
       "    <tr>\n",
       "      <th>36244</th>\n",
       "      <td>53.0</td>\n",
       "      <td>Self-emp-not-inc</td>\n",
       "      <td>109915</td>\n",
       "      <td>Bachelors</td>\n",
       "      <td>13</td>\n",
       "      <td>Married-civ-spouse</td>\n",
       "      <td>Sales</td>\n",
       "      <td>Husband</td>\n",
       "      <td>Asian-Pac-Islander</td>\n",
       "      <td>Male</td>\n",
       "      <td>55</td>\n",
       "      <td>Philippines</td>\n",
       "      <td>35</td>\n",
       "      <td>3</td>\n",
       "      <td>&lt;=90k</td>\n",
       "      <td>(43, 57]</td>\n",
       "      <td>Others</td>\n",
       "    </tr>\n",
       "    <tr>\n",
       "      <th>36245</th>\n",
       "      <td>46.0</td>\n",
       "      <td>Private</td>\n",
       "      <td>87971</td>\n",
       "      <td>Masters</td>\n",
       "      <td>14</td>\n",
       "      <td>Never-married</td>\n",
       "      <td>Sales</td>\n",
       "      <td>Not-in-family</td>\n",
       "      <td>Other</td>\n",
       "      <td>Male</td>\n",
       "      <td>40</td>\n",
       "      <td>United-States</td>\n",
       "      <td>19</td>\n",
       "      <td>3</td>\n",
       "      <td>&lt;=90k</td>\n",
       "      <td>(43, 57]</td>\n",
       "      <td>United-States</td>\n",
       "    </tr>\n",
       "    <tr>\n",
       "      <th>36246</th>\n",
       "      <td>49.0</td>\n",
       "      <td>State-gov</td>\n",
       "      <td>71723</td>\n",
       "      <td>HS-grad</td>\n",
       "      <td>9</td>\n",
       "      <td>Never-married</td>\n",
       "      <td>Prof-specialty</td>\n",
       "      <td>Own-child</td>\n",
       "      <td>Other</td>\n",
       "      <td>Female</td>\n",
       "      <td>40</td>\n",
       "      <td>United-States</td>\n",
       "      <td>10</td>\n",
       "      <td>2</td>\n",
       "      <td>&lt;=90k</td>\n",
       "      <td>(43, 57]</td>\n",
       "      <td>United-States</td>\n",
       "    </tr>\n",
       "    <tr>\n",
       "      <th>36247</th>\n",
       "      <td>41.0</td>\n",
       "      <td>Private</td>\n",
       "      <td>180857</td>\n",
       "      <td>HS-grad</td>\n",
       "      <td>9</td>\n",
       "      <td>Married-civ-spouse</td>\n",
       "      <td>Exec-managerial</td>\n",
       "      <td>Husband</td>\n",
       "      <td>Asian-Pac-Islander</td>\n",
       "      <td>Male</td>\n",
       "      <td>40</td>\n",
       "      <td>United-States</td>\n",
       "      <td>41</td>\n",
       "      <td>4</td>\n",
       "      <td>&gt;90k</td>\n",
       "      <td>(29, 43]</td>\n",
       "      <td>United-States</td>\n",
       "    </tr>\n",
       "    <tr>\n",
       "      <th>36248</th>\n",
       "      <td>58.0</td>\n",
       "      <td>Private</td>\n",
       "      <td>117245</td>\n",
       "      <td>HS-grad</td>\n",
       "      <td>9</td>\n",
       "      <td>Married-civ-spouse</td>\n",
       "      <td>Transport-moving</td>\n",
       "      <td>Husband</td>\n",
       "      <td>Other</td>\n",
       "      <td>Male</td>\n",
       "      <td>55</td>\n",
       "      <td>United-States</td>\n",
       "      <td>38</td>\n",
       "      <td>4</td>\n",
       "      <td>&gt;90k</td>\n",
       "      <td>(57, 71]</td>\n",
       "      <td>United-States</td>\n",
       "    </tr>\n",
       "    <tr>\n",
       "      <th>36249</th>\n",
       "      <td>31.0</td>\n",
       "      <td>Private</td>\n",
       "      <td>126498</td>\n",
       "      <td>HS-grad</td>\n",
       "      <td>9</td>\n",
       "      <td>Never-married</td>\n",
       "      <td>Other-service</td>\n",
       "      <td>Other-relative</td>\n",
       "      <td>Other</td>\n",
       "      <td>Female</td>\n",
       "      <td>40</td>\n",
       "      <td>United-States</td>\n",
       "      <td>8</td>\n",
       "      <td>2</td>\n",
       "      <td>&lt;=90k</td>\n",
       "      <td>(29, 43]</td>\n",
       "      <td>United-States</td>\n",
       "    </tr>\n",
       "    <tr>\n",
       "      <th>36250</th>\n",
       "      <td>57.0</td>\n",
       "      <td>Private</td>\n",
       "      <td>72015</td>\n",
       "      <td>Bachelors</td>\n",
       "      <td>13</td>\n",
       "      <td>Divorced</td>\n",
       "      <td>Transport-moving</td>\n",
       "      <td>Unmarried</td>\n",
       "      <td>Other</td>\n",
       "      <td>Female</td>\n",
       "      <td>50</td>\n",
       "      <td>United-States</td>\n",
       "      <td>41</td>\n",
       "      <td>4</td>\n",
       "      <td>&gt;90k</td>\n",
       "      <td>(43, 57]</td>\n",
       "      <td>United-States</td>\n",
       "    </tr>\n",
       "    <tr>\n",
       "      <th>36251</th>\n",
       "      <td>32.0</td>\n",
       "      <td>Private</td>\n",
       "      <td>94815</td>\n",
       "      <td>HS-grad</td>\n",
       "      <td>9</td>\n",
       "      <td>Never-married</td>\n",
       "      <td>Sales</td>\n",
       "      <td>Not-in-family</td>\n",
       "      <td>Asian-Pac-Islander</td>\n",
       "      <td>Male</td>\n",
       "      <td>34</td>\n",
       "      <td>United-States</td>\n",
       "      <td>6</td>\n",
       "      <td>2</td>\n",
       "      <td>&lt;=90k</td>\n",
       "      <td>(29, 43]</td>\n",
       "      <td>United-States</td>\n",
       "    </tr>\n",
       "  </tbody>\n",
       "</table>\n",
       "</div>"
      ],
      "text/plain": [
       "        age         workclass  fnlwgt    education  educational-num  \\\n",
       "36232  57.0           Private   79514      HS-grad                9   \n",
       "36233  57.0           Private   91330      HS-grad                9   \n",
       "36234  54.0           Private  102625   Assoc-acdm               12   \n",
       "36235  33.0           Private  108813      HS-grad                9   \n",
       "36236  48.0           Private   97970   Assoc-acdm               12   \n",
       "36237  35.0       Federal-gov   96289  Prof-school               15   \n",
       "36238  30.0           Private   77248    Assoc-voc               11   \n",
       "36239  22.0      Self-emp-inc   86157    Assoc-voc               11   \n",
       "36240  45.0  Self-emp-not-inc  101115         11th                7   \n",
       "36241  47.0           Private  106232    Bachelors               13   \n",
       "36242  48.0           Private  104857    Bachelors               13   \n",
       "36243  37.0           Private   73008    Bachelors               13   \n",
       "36244  53.0  Self-emp-not-inc  109915    Bachelors               13   \n",
       "36245  46.0           Private   87971      Masters               14   \n",
       "36246  49.0         State-gov   71723      HS-grad                9   \n",
       "36247  41.0           Private  180857      HS-grad                9   \n",
       "36248  58.0           Private  117245      HS-grad                9   \n",
       "36249  31.0           Private  126498      HS-grad                9   \n",
       "36250  57.0           Private   72015    Bachelors               13   \n",
       "36251  32.0           Private   94815      HS-grad                9   \n",
       "\n",
       "              marital-status        occupation    relationship  \\\n",
       "36232          Never-married     Other-service       Unmarried   \n",
       "36233  Married-spouse-absent     Other-service  Other-relative   \n",
       "36234               Divorced     Other-service  Other-relative   \n",
       "36235     Married-civ-spouse     Other-service  Other-relative   \n",
       "36236                Widowed     Other-service   Not-in-family   \n",
       "36237              Separated    Prof-specialty   Not-in-family   \n",
       "36238  Married-spouse-absent     Other-service   Not-in-family   \n",
       "36239          Never-married   Exec-managerial   Not-in-family   \n",
       "36240          Never-married  Transport-moving       Unmarried   \n",
       "36241          Never-married             Sales   Not-in-family   \n",
       "36242          Never-married   Exec-managerial   Not-in-family   \n",
       "36243  Married-spouse-absent   Exec-managerial   Not-in-family   \n",
       "36244     Married-civ-spouse             Sales         Husband   \n",
       "36245          Never-married             Sales   Not-in-family   \n",
       "36246          Never-married    Prof-specialty       Own-child   \n",
       "36247     Married-civ-spouse   Exec-managerial         Husband   \n",
       "36248     Married-civ-spouse  Transport-moving         Husband   \n",
       "36249          Never-married     Other-service  Other-relative   \n",
       "36250               Divorced  Transport-moving       Unmarried   \n",
       "36251          Never-married             Sales   Not-in-family   \n",
       "\n",
       "                     race  gender  hours-per-week native-country  \\\n",
       "36232               White    Male              40  United-States   \n",
       "36233  Asian-Pac-Islander    Male              40  United-States   \n",
       "36234  Asian-Pac-Islander  Female              99  United-States   \n",
       "36235  Asian-Pac-Islander    Male              40  United-States   \n",
       "36236  Asian-Pac-Islander  Female              25  United-States   \n",
       "36237  Asian-Pac-Islander    Male              80  United-States   \n",
       "36238  Asian-Pac-Islander  Female              32  United-States   \n",
       "36239               White  Female              30  United-States   \n",
       "36240               Other    Male              40  United-States   \n",
       "36241  Asian-Pac-Islander    Male              45  United-States   \n",
       "36242               Other    Male              40  United-States   \n",
       "36243  Asian-Pac-Islander    Male              40  United-States   \n",
       "36244  Asian-Pac-Islander    Male              55    Philippines   \n",
       "36245               Other    Male              40  United-States   \n",
       "36246               Other  Female              40  United-States   \n",
       "36247  Asian-Pac-Islander    Male              40  United-States   \n",
       "36248               Other    Male              55  United-States   \n",
       "36249               Other  Female              40  United-States   \n",
       "36250               Other  Female              50  United-States   \n",
       "36251  Asian-Pac-Islander    Male              34  United-States   \n",
       "\n",
       "       coded-income  tax-bracket income-90k-threshold age_group  \\\n",
       "36232            18            3                <=90k  (43, 57]   \n",
       "36233            17            2                <=90k  (43, 57]   \n",
       "36234            11            2                <=90k  (43, 57]   \n",
       "36235             7            2                <=90k  (29, 43]   \n",
       "36236             5            2                <=90k  (43, 57]   \n",
       "36237            41            4                 >90k  (29, 43]   \n",
       "36238            16            2                <=90k  (29, 43]   \n",
       "36239             4            1                <=90k  (16, 29]   \n",
       "36240            37            4                 >90k  (43, 57]   \n",
       "36241            27            3                <=90k  (43, 57]   \n",
       "36242            41            4                 >90k  (43, 57]   \n",
       "36243            31            3                <=90k  (29, 43]   \n",
       "36244            35            3                <=90k  (43, 57]   \n",
       "36245            19            3                <=90k  (43, 57]   \n",
       "36246            10            2                <=90k  (43, 57]   \n",
       "36247            41            4                 >90k  (29, 43]   \n",
       "36248            38            4                 >90k  (57, 71]   \n",
       "36249             8            2                <=90k  (29, 43]   \n",
       "36250            41            4                 >90k  (43, 57]   \n",
       "36251             6            2                <=90k  (29, 43]   \n",
       "\n",
       "      native-country2  \n",
       "36232   United-States  \n",
       "36233   United-States  \n",
       "36234   United-States  \n",
       "36235   United-States  \n",
       "36236   United-States  \n",
       "36237   United-States  \n",
       "36238   United-States  \n",
       "36239   United-States  \n",
       "36240   United-States  \n",
       "36241   United-States  \n",
       "36242   United-States  \n",
       "36243   United-States  \n",
       "36244          Others  \n",
       "36245   United-States  \n",
       "36246   United-States  \n",
       "36247   United-States  \n",
       "36248   United-States  \n",
       "36249   United-States  \n",
       "36250   United-States  \n",
       "36251   United-States  "
      ]
     },
     "execution_count": 102,
     "metadata": {},
     "output_type": "execute_result"
    }
   ],
   "source": [
    "df.tail(20)"
   ]
  },
  {
   "cell_type": "code",
   "execution_count": 103,
   "id": "903a30e1",
   "metadata": {},
   "outputs": [
    {
     "name": "stdout",
     "output_type": "stream",
     "text": [
      "native-country2\n",
      "United-States    30937\n",
      "Others            5315\n",
      "dtype: int64\n"
     ]
    }
   ],
   "source": [
    "print(df.groupby('native-country2').size().sort_values(ascending=False))"
   ]
  },
  {
   "cell_type": "code",
   "execution_count": 9,
   "id": "1dc85df3",
   "metadata": {},
   "outputs": [
    {
     "name": "stdout",
     "output_type": "stream",
     "text": [
      "income-90k-threshold\n",
      "<=90k    29171\n",
      ">90k      7081\n",
      "dtype: int64\n"
     ]
    }
   ],
   "source": [
    "print(df.groupby('income-90k-threshold').size())\n",
    "#<=50k = 0, >50k = 1"
   ]
  },
  {
   "cell_type": "code",
   "execution_count": 65,
   "id": "e82ad459",
   "metadata": {},
   "outputs": [
    {
     "name": "stdout",
     "output_type": "stream",
     "text": [
      "tax-bracket\n",
      "1     2177\n",
      "2    14634\n",
      "3    12141\n",
      "4     7300\n",
      "dtype: int64\n"
     ]
    }
   ],
   "source": [
    "print(df.groupby('tax-bracket').size())"
   ]
  },
  {
   "cell_type": "code",
   "execution_count": 104,
   "id": "d1daea6e",
   "metadata": {},
   "outputs": [
    {
     "name": "stdout",
     "output_type": "stream",
     "text": [
      "        age  workclass  fnlwgt  education  educational-num  \\\n",
      "0      63.0  State-gov  166860    HS-grad                9   \n",
      "1      64.0  Local-gov  111745    HS-grad                9   \n",
      "2      54.0    Private  151825    HS-grad                9   \n",
      "3      37.0    Private  174690    HS-grad                9   \n",
      "4      35.0    Private  197229  Assoc-voc               11   \n",
      "...     ...        ...     ...        ...              ...   \n",
      "36247  41.0    Private  180857    HS-grad                9   \n",
      "36248  58.0    Private  117245    HS-grad                9   \n",
      "36249  31.0    Private  126498    HS-grad                9   \n",
      "36250  57.0    Private   72015  Bachelors               13   \n",
      "36251  32.0    Private   94815    HS-grad                9   \n",
      "\n",
      "           marital-status        occupation    relationship  \\\n",
      "0      Married-civ-spouse   Exec-managerial            Wife   \n",
      "1      Married-civ-spouse  Transport-moving         Husband   \n",
      "2                Divorced      Adm-clerical   Not-in-family   \n",
      "3           Never-married     Other-service       Own-child   \n",
      "4      Married-civ-spouse    Prof-specialty            Wife   \n",
      "...                   ...               ...             ...   \n",
      "36247  Married-civ-spouse   Exec-managerial         Husband   \n",
      "36248  Married-civ-spouse  Transport-moving         Husband   \n",
      "36249       Never-married     Other-service  Other-relative   \n",
      "36250            Divorced  Transport-moving       Unmarried   \n",
      "36251       Never-married             Sales   Not-in-family   \n",
      "\n",
      "                     race  gender  hours-per-week native-country  \\\n",
      "0                   White  Female              40  United-States   \n",
      "1                   White    Male              40  United-States   \n",
      "2                   White  Female              44  United-States   \n",
      "3                   White    Male              21  United-States   \n",
      "4                   White  Female              40  United-States   \n",
      "...                   ...     ...             ...            ...   \n",
      "36247  Asian-Pac-Islander    Male              40  United-States   \n",
      "36248               Other    Male              55  United-States   \n",
      "36249               Other  Female              40  United-States   \n",
      "36250               Other  Female              50  United-States   \n",
      "36251  Asian-Pac-Islander    Male              34  United-States   \n",
      "\n",
      "       coded-income  tax-bracket income-90k-threshold age_group  \\\n",
      "0                22            3                <=90k  (57, 71]   \n",
      "1                18            3                <=90k  (57, 71]   \n",
      "2                17            2                <=90k  (43, 57]   \n",
      "3                 4            1                <=90k  (29, 43]   \n",
      "4                18            3                <=90k  (29, 43]   \n",
      "...             ...          ...                  ...       ...   \n",
      "36247            41            4                 >90k  (29, 43]   \n",
      "36248            38            4                 >90k  (57, 71]   \n",
      "36249             8            2                <=90k  (29, 43]   \n",
      "36250            41            4                 >90k  (43, 57]   \n",
      "36251             6            2                <=90k  (29, 43]   \n",
      "\n",
      "      native-country2  disIncome  \n",
      "0       United-States          0  \n",
      "1       United-States          0  \n",
      "2       United-States          0  \n",
      "3       United-States          0  \n",
      "4       United-States          0  \n",
      "...               ...        ...  \n",
      "36247   United-States          1  \n",
      "36248   United-States          1  \n",
      "36249   United-States          0  \n",
      "36250   United-States          1  \n",
      "36251   United-States          0  \n",
      "\n",
      "[36252 rows x 18 columns]\n"
     ]
    }
   ],
   "source": [
    "df['disIncome'] = np.zeros(df.shape[0],dtype=int)\n",
    "df.loc[df['income-90k-threshold'] == \">90k\", 'disIncome'] = 1\n",
    "print(df)"
   ]
  },
  {
   "cell_type": "code",
   "execution_count": 105,
   "id": "2e49b49b",
   "metadata": {},
   "outputs": [
    {
     "name": "stdout",
     "output_type": "stream",
     "text": [
      "  age_group  disIncome  Frequency\n",
      "0  (16, 29]          0       8158\n",
      "1  (16, 29]          1        459\n",
      "2  (29, 43]          0       8513\n",
      "3  (29, 43]          1       2163\n",
      "4  (43, 57]          0       7232\n",
      "5  (43, 57]          1       2532\n",
      "6  (57, 71]          0       4584\n",
      "7  (57, 71]          1       1686\n",
      "8  (71, 85]          0        684\n",
      "9  (71, 85]          1        241\n"
     ]
    }
   ],
   "source": [
    "age_income = df.groupby(['age_group','disIncome'])['disIncome'].count().reset_index(name='counts')\n",
    "age_income.rename(columns = {'counts':'Frequency'}, inplace = True)\n",
    "with pd.option_context('display.max_rows', None, 'display.max_columns', None):  # more options can be specified also\n",
    "    print(age_income)"
   ]
  },
  {
   "cell_type": "code",
   "execution_count": 106,
   "id": "71be316f",
   "metadata": {},
   "outputs": [
    {
     "name": "stdout",
     "output_type": "stream",
     "text": [
      "                 race  disIncome  counts\n",
      "0  Amer-Indian-Eskimo          0     367\n",
      "1  Amer-Indian-Eskimo          1      35\n",
      "2  Asian-Pac-Islander          0    1441\n",
      "3  Asian-Pac-Islander          1     593\n",
      "4               Black          0    3352\n",
      "5               Black          1     465\n",
      "6               Other          0     726\n",
      "7               Other          1     115\n",
      "8               White          0   23285\n",
      "9               White          1    5873\n"
     ]
    }
   ],
   "source": [
    "race_income = df.groupby(['race','disIncome'])['disIncome'].count().reset_index(name='counts')\n",
    "age_income.rename(columns = {'counts':'Frequency'}, inplace = True)\n",
    "with pd.option_context('display.max_rows', None, 'display.max_columns', None):  # more options can be specified also\n",
    "    print(race_income)"
   ]
  },
  {
   "cell_type": "code",
   "execution_count": 114,
   "id": "f9042f16",
   "metadata": {},
   "outputs": [
    {
     "name": "stdout",
     "output_type": "stream",
     "text": [
      "   gender  disIncome  Frequency\n",
      "0  Female          0      14346\n",
      "1  Female          1       2108\n",
      "2    Male          0      14825\n",
      "3    Male          1       4973\n"
     ]
    }
   ],
   "source": [
    "gender_income = df.groupby(['gender','disIncome'])['disIncome'].count().reset_index(name='counts')\n",
    "gender_income.rename(columns = {'counts':'Frequency'}, inplace = True)\n",
    "with pd.option_context('display.max_rows', None, 'display.max_columns', None):  # more options can be specified also\n",
    "    print(gender_income)"
   ]
  },
  {
   "cell_type": "code",
   "execution_count": 122,
   "id": "15a94662",
   "metadata": {},
   "outputs": [
    {
     "name": "stdout",
     "output_type": "stream",
     "text": [
      "  native-country2  disIncome  Frequency\n",
      "0          Others          0       4273\n",
      "1          Others          1       1042\n",
      "2   United-States          0      24898\n",
      "3   United-States          1       6039\n"
     ]
    }
   ],
   "source": [
    "native_country2_income = df.groupby(['native-country2','disIncome'])['disIncome'].count().reset_index(name='counts')\n",
    "native_country2_income.rename(columns = {'counts':'Frequency'}, inplace = True)\n",
    "with pd.option_context('display.max_rows', None, 'display.max_columns', None):  # more options can be specified also\n",
    "    print(native_country2_income)"
   ]
  },
  {
   "cell_type": "code",
   "execution_count": 124,
   "id": "7127793e",
   "metadata": {},
   "outputs": [
    {
     "data": {
      "image/png": "[encoded data removed]",
      "text/plain": [
       "<Figure size 1440x864 with 4 Axes>"
      ]
     },
     "metadata": {
      "needs_background": "light"
     },
     "output_type": "display_data"
    }
   ],
   "source": [
    "\n",
    "fig = plt.figure(figsize = (20,12))\n",
    "\n",
    "ax1 = fig.add_subplot(221)\n",
    "sns.countplot(x='income-90k-threshold', hue='race', data=df,ax=ax1).set_title(\"Race vs Income\")\n",
    "ax1.set(xlabel = 'Income',ylabel = \"Frequency\")\n",
    "\n",
    "ax2 = fig.add_subplot(222)\n",
    "sns.countplot(x='income-90k-threshold', hue='gender', data=df,ax=ax2).set_title(\"Gender vs Income\")\n",
    "ax2.set(xlabel = 'Income',ylabel = \"Frequency\")\n",
    "\n",
    "ax3 = fig.add_subplot(223)\n",
    "sns.countplot(x='income-90k-threshold', hue='age_group', data=df,ax=ax3).set_title(\"Age Group vs Income\")\n",
    "ax3.set(xlabel = 'Income',ylabel = \"Frequency\")\n",
    "\n",
    "ax4 = fig.add_subplot(224)\n",
    "sns.countplot(x='income-90k-threshold', hue='native-country2', data=df,ax=ax4).set_title(\"Age Group vs Native Country\")\n",
    "ax4.set(xlabel = 'Income',ylabel = \"Frequency\")\n",
    "\n",
    "plt.show()"
   ]
  },
  {
   "cell_type": "code",
   "execution_count": 125,
   "id": "c7347e7c",
   "metadata": {},
   "outputs": [
    {
     "name": "stdout",
     "output_type": "stream",
     "text": [
      "   age_group  tax-bracket  Frequency\n",
      "0   (16, 29]            1       1253\n",
      "1   (16, 29]            2       4851\n",
      "2   (16, 29]            3       2034\n",
      "3   (16, 29]            4        479\n",
      "4   (29, 43]            1        448\n",
      "5   (29, 43]            2       4034\n",
      "6   (29, 43]            3       3954\n",
      "7   (29, 43]            4       2240\n",
      "8   (43, 57]            1        312\n",
      "9   (43, 57]            2       3313\n",
      "10  (43, 57]            3       3541\n",
      "11  (43, 57]            4       2598\n",
      "12  (57, 71]            1        151\n",
      "13  (57, 71]            2       2112\n",
      "14  (57, 71]            3       2271\n",
      "15  (57, 71]            4       1736\n",
      "16  (71, 85]            1         13\n",
      "17  (71, 85]            2        324\n",
      "18  (71, 85]            3        341\n",
      "19  (71, 85]            4        247\n"
     ]
    }
   ],
   "source": [
    "age_income2 = df.groupby(['age_group','tax-bracket'])['tax-bracket'].count().reset_index(name='counts')\n",
    "age_income2.rename(columns = {'counts':'Frequency'}, inplace = True)\n",
    "with pd.option_context('display.max_rows', None, 'display.max_columns', None):  # more options can be specified also\n",
    "    print(age_income2)"
   ]
  },
  {
   "cell_type": "code",
   "execution_count": 126,
   "id": "5f31bce9",
   "metadata": {},
   "outputs": [
    {
     "name": "stdout",
     "output_type": "stream",
     "text": [
      "                  race  tax-bracket  counts\n",
      "0   Amer-Indian-Eskimo            1      28\n",
      "1   Amer-Indian-Eskimo            2     224\n",
      "2   Amer-Indian-Eskimo            3     113\n",
      "3   Amer-Indian-Eskimo            4      37\n",
      "4   Asian-Pac-Islander            1      88\n",
      "5   Asian-Pac-Islander            2     680\n",
      "6   Asian-Pac-Islander            3     656\n",
      "7   Asian-Pac-Islander            4     610\n",
      "8                Black            1     293\n",
      "9                Black            2    1913\n",
      "10               Black            3    1129\n",
      "11               Black            4     482\n",
      "12               Other            1      68\n",
      "13               Other            2     416\n",
      "14               Other            3     238\n",
      "15               Other            4     119\n",
      "16               White            1    1700\n",
      "17               White            2   11401\n",
      "18               White            3   10005\n",
      "19               White            4    6052\n"
     ]
    }
   ],
   "source": [
    "race_income2 = df.groupby(['race','tax-bracket'])['tax-bracket'].count().reset_index(name='counts')\n",
    "age_income2.rename(columns = {'counts':'Frequency'}, inplace = True)\n",
    "with pd.option_context('display.max_rows', None, 'display.max_columns', None):  # more options can be specified also\n",
    "    print(race_income2)"
   ]
  },
  {
   "cell_type": "code",
   "execution_count": 127,
   "id": "be63d6fc",
   "metadata": {},
   "outputs": [
    {
     "name": "stdout",
     "output_type": "stream",
     "text": [
      "   gender  tax-bracket  Frequency\n",
      "0  Female            1       1279\n",
      "1  Female            2       7730\n",
      "2  Female            3       5245\n",
      "3  Female            4       2200\n",
      "4    Male            1        898\n",
      "5    Male            2       6904\n",
      "6    Male            3       6896\n",
      "7    Male            4       5100\n"
     ]
    }
   ],
   "source": [
    "gender_income3 = df.groupby(['gender','tax-bracket'])['tax-bracket'].count().reset_index(name='counts')\n",
    "gender_income3.rename(columns = {'counts':'Frequency'}, inplace = True)\n",
    "with pd.option_context('display.max_rows', None, 'display.max_columns', None):  # more options can be specified also\n",
    "    print(gender_income3)"
   ]
  },
  {
   "cell_type": "code",
   "execution_count": 128,
   "id": "47e16235",
   "metadata": {},
   "outputs": [
    {
     "name": "stdout",
     "output_type": "stream",
     "text": [
      "  native-country2  tax-bracket  Frequency\n",
      "0          Others            1        294\n",
      "1          Others            2       2404\n",
      "2          Others            3       1552\n",
      "3          Others            4       1065\n",
      "4   United-States            1       1883\n",
      "5   United-States            2      12230\n",
      "6   United-States            3      10589\n",
      "7   United-States            4       6235\n"
     ]
    }
   ],
   "source": [
    "native_country2_income2 = df.groupby(['native-country2','tax-bracket'])['tax-bracket'].count().reset_index(name='counts')\n",
    "native_country2_income2.rename(columns = {'counts':'Frequency'}, inplace = True)\n",
    "with pd.option_context('display.max_rows', None, 'display.max_columns', None):  # more options can be specified also\n",
    "    print(native_country2_income2)"
   ]
  },
  {
   "cell_type": "code",
   "execution_count": 129,
   "id": "716ed2ca",
   "metadata": {},
   "outputs": [
    {
     "data": {
      "image/png": "[encoded data removed]",
      "text/plain": [
       "<Figure size 1440x864 with 4 Axes>"
      ]
     },
     "metadata": {
      "needs_background": "light"
     },
     "output_type": "display_data"
    }
   ],
   "source": [
    "fig = plt.figure(figsize = (20,12))\n",
    "\n",
    "ax1 = fig.add_subplot(221)\n",
    "sns.countplot(x='tax-bracket', hue='race', data=df,ax=ax1).set_title(\"Race vs Income\")\n",
    "ax1.set(xlabel = 'tax-bracket',ylabel = \"Frequency\")\n",
    "\n",
    "ax2 = fig.add_subplot(222)\n",
    "sns.countplot(x='tax-bracket', hue='gender', data=df,ax=ax2).set_title(\"Gender vs Income\")\n",
    "ax2.set(xlabel = 'tax-bracket',ylabel = \"Frequency\")\n",
    "\n",
    "ax3 = fig.add_subplot(223)\n",
    "sns.countplot(x='tax-bracket', hue='age_group', data=df,ax=ax3).set_title(\"Age Group vs Income\")\n",
    "ax3.set(xlabel = 'tax-bracket',ylabel = \"Frequency\")\n",
    "\n",
    "ax4 = fig.add_subplot(224)\n",
    "sns.countplot(x='tax-bracket', hue='native-country2', data=df,ax=ax4).set_title(\"Age Group vs Native Country\")\n",
    "ax4.set(xlabel = 'tax-bracket',ylabel = \"Frequency\")\n",
    "\n",
    "plt.show()"
   ]
  },
  {
   "cell_type": "markdown",
   "id": "4be6a20b",
   "metadata": {},
   "source": [
    "# Step 3\n",
    "1. Privileged Group: {Race: White, Gender: male, Age group: (43,57), Native Country: United-State}"
   ]
  },
  {
   "cell_type": "code",
   "execution_count": 130,
   "id": "cb5e0983",
   "metadata": {},
   "outputs": [
    {
     "data": {
      "image/png": "[encoded data removed]",
      "text/plain": [
       "<Figure size 1008x576 with 1 Axes>"
      ]
     },
     "metadata": {
      "needs_background": "light"
     },
     "output_type": "display_data"
    }
   ],
   "source": [
    "occupation = df['occupation'].value_counts()\n",
    "plt.figure(figsize=(14,8))\n",
    "sns.barplot(x =occupation.index , y =occupation.values ,palette=\"Blues_r\" )\n",
    "plt.xticks(rotation = 45)\n",
    "plt.show()"
   ]
  },
  {
   "cell_type": "code",
   "execution_count": 132,
   "id": "f74a5c68",
   "metadata": {},
   "outputs": [],
   "source": [
    "classification = {\n",
    "     'Prof-specialty': 11,\n",
    "     'Exec-managerial': 10,\n",
    "     'Other-service':9,\n",
    "     'Adm-clerical': 8,\n",
    "     'Sales': 7,\n",
    "     'Transport-moving':6,\n",
    "     'Production': 5,\n",
    "     'Construction' :4,\n",
    "     'Craft-repair':3,\n",
    "     'Farming-fishing':2,\n",
    "     'Armed-Forces' :1\n",
    "}\n",
    "df['occupation_num'] = df['occupation'].map(classification)\n"
   ]
  },
  {
   "cell_type": "raw",
   "id": "5311c27f",
   "metadata": {},
   "source": [
    "Salary Worthiness is calculated here as (occupation_value + educational_value * hours per week)"
   ]
  },
  {
   "cell_type": "code",
   "execution_count": 133,
   "id": "6f31307d",
   "metadata": {},
   "outputs": [
    {
     "name": "stdout",
     "output_type": "stream",
     "text": [
      "        age  workclass  fnlwgt  education  educational-num  \\\n",
      "0      63.0  State-gov  166860    HS-grad                9   \n",
      "1      64.0  Local-gov  111745    HS-grad                9   \n",
      "2      54.0    Private  151825    HS-grad                9   \n",
      "3      37.0    Private  174690    HS-grad                9   \n",
      "4      35.0    Private  197229  Assoc-voc               11   \n",
      "...     ...        ...     ...        ...              ...   \n",
      "36247  41.0    Private  180857    HS-grad                9   \n",
      "36248  58.0    Private  117245    HS-grad                9   \n",
      "36249  31.0    Private  126498    HS-grad                9   \n",
      "36250  57.0    Private   72015  Bachelors               13   \n",
      "36251  32.0    Private   94815    HS-grad                9   \n",
      "\n",
      "           marital-status        occupation    relationship  \\\n",
      "0      Married-civ-spouse   Exec-managerial            Wife   \n",
      "1      Married-civ-spouse  Transport-moving         Husband   \n",
      "2                Divorced      Adm-clerical   Not-in-family   \n",
      "3           Never-married     Other-service       Own-child   \n",
      "4      Married-civ-spouse    Prof-specialty            Wife   \n",
      "...                   ...               ...             ...   \n",
      "36247  Married-civ-spouse   Exec-managerial         Husband   \n",
      "36248  Married-civ-spouse  Transport-moving         Husband   \n",
      "36249       Never-married     Other-service  Other-relative   \n",
      "36250            Divorced  Transport-moving       Unmarried   \n",
      "36251       Never-married             Sales   Not-in-family   \n",
      "\n",
      "                     race  gender  hours-per-week native-country  \\\n",
      "0                   White  Female              40  United-States   \n",
      "1                   White    Male              40  United-States   \n",
      "2                   White  Female              44  United-States   \n",
      "3                   White    Male              21  United-States   \n",
      "4                   White  Female              40  United-States   \n",
      "...                   ...     ...             ...            ...   \n",
      "36247  Asian-Pac-Islander    Male              40  United-States   \n",
      "36248               Other    Male              55  United-States   \n",
      "36249               Other  Female              40  United-States   \n",
      "36250               Other  Female              50  United-States   \n",
      "36251  Asian-Pac-Islander    Male              34  United-States   \n",
      "\n",
      "       coded-income  tax-bracket income-90k-threshold age_group  \\\n",
      "0                22            3                <=90k  (57, 71]   \n",
      "1                18            3                <=90k  (57, 71]   \n",
      "2                17            2                <=90k  (43, 57]   \n",
      "3                 4            1                <=90k  (29, 43]   \n",
      "4                18            3                <=90k  (29, 43]   \n",
      "...             ...          ...                  ...       ...   \n",
      "36247            41            4                 >90k  (29, 43]   \n",
      "36248            38            4                 >90k  (57, 71]   \n",
      "36249             8            2                <=90k  (29, 43]   \n",
      "36250            41            4                 >90k  (43, 57]   \n",
      "36251             6            2                <=90k  (29, 43]   \n",
      "\n",
      "      native-country2  disIncome  occupation_num  salaryWorthiness  \n",
      "0       United-States          0              10               370  \n",
      "1       United-States          0               6               366  \n",
      "2       United-States          0               8               404  \n",
      "3       United-States          0               9               198  \n",
      "4       United-States          0              11               451  \n",
      "...               ...        ...             ...               ...  \n",
      "36247   United-States          1              10               370  \n",
      "36248   United-States          1               6               501  \n",
      "36249   United-States          0               9               369  \n",
      "36250   United-States          1               6               656  \n",
      "36251   United-States          0               7               313  \n",
      "\n",
      "[36252 rows x 20 columns]\n"
     ]
    }
   ],
   "source": [
    "df['salaryWorthiness'] = df['occupation_num'] + (df['educational-num'] * df['hours-per-week'])\n",
    "print(df)"
   ]
  },
  {
   "cell_type": "code",
   "execution_count": 135,
   "id": "509ec09e",
   "metadata": {},
   "outputs": [
    {
     "data": {
      "text/plain": [
       "approval/declined_list\n",
       "0                  3277\n",
       "black_approved     2961\n",
       "black_declined      856\n",
       "white_approved    22794\n",
       "white_declined     6364\n",
       "Name: approval/declined_list, dtype: int64"
      ]
     },
     "execution_count": 135,
     "metadata": {},
     "output_type": "execute_result"
    }
   ],
   "source": [
    "cases = [\n",
    " (df['salaryWorthiness'] >= 350) & (df['race'] == 'White'),\n",
    " (df['salaryWorthiness'] < 350) & (df['race'] == 'White'),\n",
    " (df['salaryWorthiness'] >= 350) & (df['race'] == 'Black'),\n",
    " (df['salaryWorthiness'] < 350) & (df['race'] == 'Black')\n",
    " ]\n",
    "choices = ['white_approved', 'white_declined', 'black_approved', 'black_declined']\n",
    "df['approval/declined_list'] = np.select(cases, choices)\n",
    "df.groupby(['approval/declined_list'])['approval/declined_list'].count()\n",
    "# df.race.unique()"
   ]
  },
  {
   "cell_type": "markdown",
   "id": "f2921186",
   "metadata": {},
   "source": [
    "Table showing Favorable(Good Salary Worthiness) vs Unfavorable(Bad Salary Worthiness) outcomes:\n",
    "    \n",
    "    Group                             Favorable(Approved)           Unfavorable(Declined)\n",
    "    Privileged Group(White)              22794                         6364\n",
    "    Unprivileged Group(Black)            2961                          856"
   ]
  },
  {
   "cell_type": "code",
   "execution_count": 19,
   "id": "3820128a",
   "metadata": {},
   "outputs": [
    {
     "data": {
      "text/plain": [
       "gender_salaryWorthiness_list\n",
       "female_approved    12178\n",
       "female_declined     4276\n",
       "male_approved      16216\n",
       "male_declined       3582\n",
       "Name: gender_salaryWorthiness_list, dtype: int64"
      ]
     },
     "execution_count": 19,
     "metadata": {},
     "output_type": "execute_result"
    }
   ],
   "source": [
    "cases = [\n",
    " (df['salaryWorthiness'] >= 350) & (df['gender'] == 'Male'),\n",
    " (df['salaryWorthiness'] < 350) & (df['gender'] == 'Male'),\n",
    " (df['salaryWorthiness'] >= 350) & (df['gender'] == 'Female'),\n",
    " (df['salaryWorthiness'] < 350) & (df['gender'] == 'Female')\n",
    " ]\n",
    "choices = ['male_approved', 'male_declined', 'female_approved', 'female_declined']\n",
    "df['gender_salaryWorthiness_list'] = np.select(cases, choices)\n",
    "df.groupby(['gender_salaryWorthiness_list'])['gender_salaryWorthiness_list'].count()\n",
    "# df.gender.unique()"
   ]
  },
  {
   "cell_type": "markdown",
   "id": "fcd59a5b",
   "metadata": {},
   "source": [
    "Table showing Favorable(Good Salary Worthiness) vs Unfavorable(Bad Salary Worthiness) outcomes:\n",
    "    \n",
    "    Group                             Favorable(Approved)           Unfavorable(Declined)\n",
    "    Privileged Group(Male)                16216                          3582\n",
    "    Unprivileged Group(Female)            12178                          4276"
   ]
  },
  {
   "cell_type": "code",
   "execution_count": 137,
   "id": "87d8dc50",
   "metadata": {},
   "outputs": [
    {
     "data": {
      "text/plain": [
       "age_group_salaryWorthiness_list\n",
       "0                   18513\n",
       "older_approved       7713\n",
       "older_declined       1409\n",
       "younger_approved     5751\n",
       "younger_declined     2866\n",
       "Name: age_group_salaryWorthiness_list, dtype: int64"
      ]
     },
     "execution_count": 137,
     "metadata": {},
     "output_type": "execute_result"
    }
   ],
   "source": [
    "cases = [\n",
    " (df['salaryWorthiness'] >= 350) & (df['age'] > 16) & (df['age'] < 30),\n",
    " (df['salaryWorthiness'] < 350) & (df['age'] > 16) & (df['age'] < 30),\n",
    " (df['salaryWorthiness'] >= 350) & (df['age'] > 44) & (df['age'] < 58),\n",
    " (df['salaryWorthiness'] < 350) & (df['age'] > 44) & (df['age'] < 58),\n",
    "    \n",
    " ]\n",
    "choices = ['younger_approved', 'younger_declined', 'older_approved', 'older_declined']\n",
    "df['age_group_salaryWorthiness_list'] = np.select(cases, choices)\n",
    "df.groupby(['age_group_salaryWorthiness_list'])['age_group_salaryWorthiness_list'].count()"
   ]
  },
  {
   "cell_type": "markdown",
   "id": "ee13f450",
   "metadata": {},
   "source": [
    "Table showing Favorable(Good Salary Worthiness) vs Unfavorable(Bad Salary Worthiness) outcomes:\n",
    "    \n",
    "    Group                             Favorable(Approved)           Unfavorable(Declined)\n",
    "    Privileged Group((43,57])                7713                           1409\n",
    "    Unprivileged Group((16,29])              5751                           2866"
   ]
  },
  {
   "cell_type": "code",
   "execution_count": 35,
   "id": "642bd652",
   "metadata": {},
   "outputs": [
    {
     "data": {
      "text/plain": [
       "raceVsIncome_list\n",
       "0                  3277\n",
       "black_approved     3352\n",
       "black_declined      465\n",
       "white_approved    23285\n",
       "white_declined     5873\n",
       "Name: raceVsIncome_list, dtype: int64"
      ]
     },
     "execution_count": 35,
     "metadata": {},
     "output_type": "execute_result"
    }
   ],
   "source": [
    "cases = [\n",
    " (df['disIncome'] ==0) & (df['race'] == 'White'),\n",
    " (df['disIncome'] ==1) & (df['race'] == 'White'),\n",
    " (df['disIncome'] ==0) & (df['race'] == 'Black'),\n",
    " (df['disIncome'] == 1) & (df['race'] == 'Black')\n",
    " ]\n",
    "choices = ['white_approved', 'white_declined', 'black_approved', 'black_declined']\n",
    "df['raceVsIncome_list'] = np.select(cases, choices)\n",
    "df.groupby(['raceVsIncome_list'])['raceVsIncome_list'].count()"
   ]
  },
  {
   "cell_type": "code",
   "execution_count": 37,
   "id": "ba4611cc",
   "metadata": {},
   "outputs": [
    {
     "data": {
      "text/plain": [
       "genderVsIncome_list\n",
       "female_approved    14346\n",
       "female_declined     2108\n",
       "male_approved      14825\n",
       "male_declined       4973\n",
       "Name: genderVsIncome_list, dtype: int64"
      ]
     },
     "execution_count": 37,
     "metadata": {},
     "output_type": "execute_result"
    }
   ],
   "source": [
    "cases = [\n",
    " (df['disIncome'] ==0) &  (df['gender'] == 'Male'),\n",
    " (df['disIncome'] ==1) &  (df['gender'] == 'Male'),\n",
    " (df['disIncome'] ==0) & (df['gender'] == 'Female'),\n",
    " (df['disIncome'] == 1) & (df['gender'] == 'Female')\n",
    " ]\n",
    "choices = ['male_approved', 'male_declined', 'female_approved', 'female_declined']\n",
    "df['genderVsIncome_list'] = np.select(cases, choices)\n",
    "df.groupby(['genderVsIncome_list'])['genderVsIncome_list'].count()"
   ]
  },
  {
   "cell_type": "code",
   "execution_count": 52,
   "id": "8388906f",
   "metadata": {},
   "outputs": [
    {
     "data": {
      "text/plain": [
       "ageVsIncome_list\n",
       "0                   19478\n",
       "older_approved       7919\n",
       "older_declined        459\n",
       "younger_approved     6216\n",
       "younger_declined     2180\n",
       "Name: ageVsIncome_list, dtype: int64"
      ]
     },
     "execution_count": 52,
     "metadata": {},
     "output_type": "execute_result"
    }
   ],
   "source": [
    "cases = [\n",
    " (df['disIncome'] ==0) & (df['age'] > 17) & (df['age'] < 30),\n",
    " (df['disIncome'] ==1) & (df['age'] > 17) & (df['age'] < 30),\n",
    " (df['disIncome'] ==0) & (df['age'] > 44) & (df['age'] < 57),\n",
    " (df['disIncome'] ==1) & (df['age'] > 44) & (df['age'] < 57),\n",
    "    \n",
    " ]\n",
    "choices = ['older_approved', 'older_declined', 'younger_approved', 'younger_declined']\n",
    "df['ageVsIncome_list'] = np.select(cases, choices)\n",
    "df.groupby(['ageVsIncome_list'])['ageVsIncome_list'].count()"
   ]
  },
  {
   "cell_type": "markdown",
   "id": "69b4d35e",
   "metadata": {},
   "source": [
    "# Bias Mitigation Algorithm"
   ]
  },
  {
   "cell_type": "markdown",
   "id": "eb937fc0",
   "metadata": {},
   "source": [
    "# Race"
   ]
  },
  {
   "cell_type": "raw",
   "id": "1e4691f3",
   "metadata": {},
   "source": [
    "1. Disparate Impact Metric \n",
    "\n",
    "Protected Variable: Race\n",
    "Fairness Metric: Salary Worthiness\n",
    "    \n",
    "Computed as the ratio of rate of favorable outcome for the unprivileged group to that of the privileged group.\n",
    "\n",
    "Rate of favorable outcome for the privileged group : 22794/(22794 + 6364) = 0.7817\n",
    "Rate of favorable outcome for the unprivileged group : 2961/(2961 + 856) = 0.7757\n",
    "Disparate Impact Metric : 0.9923\n",
    "\n",
    "The ideal value of this metric is 1.0. A value < 1 implies higher benefit for the privileged group and a value >1 implies \n",
    "a higher benefit for the unprivileged group.\n",
    "\n",
    "Thus, there is a higher benefit for the privileged group implying that there is a bias towards to the unprivileged group"
   ]
  },
  {
   "cell_type": "raw",
   "id": "ec369ea4",
   "metadata": {},
   "source": [
    "2. Disparate Impact Metric \n",
    "\n",
    "Protected Variable: Race\n",
    "Fairness Metric: Income Bracket\n",
    "    \n",
    "Computed as the ratio of rate of favorable outcome for the unprivileged group to that of the privileged group.\n",
    "\n",
    "Rate of favorable outcome for the privileged group : 23285/(23285 + 5873) = 0.7985\n",
    "Rate of favorable outcome for the unprivileged group : 3352/(3352 + 465) = 0.8781\n",
    "Disparate Impact Metric : 1.099\n",
    "\n",
    "The ideal value of this metric is 1.0. A value < 1 implies higher benefit for the privileged group and a value >1 implies \n",
    "a higher benefit for the unprivileged group.\n",
    "\n",
    "Thus, there is a higher benefit for the unprivileged group implying that there is a bias towards to the privileged group"
   ]
  },
  {
   "cell_type": "raw",
   "id": "b9b25538",
   "metadata": {},
   "source": [
    "3. Statistical Parity Difference\n",
    "\n",
    "Protected Variable: Race\n",
    "Fairness Metric: Salary Worthiness\n",
    "\n",
    "Computed as the difference of the rate of favorable outcomes received by the unprivileged group to the privileged group.\n",
    "\n",
    "Rate of favorable outcome for the privileged group : 22794/(22794 + 6364) = 0.7817\n",
    "Rate of favorable outcome for the unprivileged group : 2961/(2961 + 856) = 0.7757\n",
    "Statistical Parity Difference Metric: - 0.006 \n",
    "\n",
    "The ideal value of this metric is 0\n",
    "\n",
    "Fairness for this metric is between -0.1 and 0.1\n",
    "\n",
    "Thus, the metric shows that its fair."
   ]
  },
  {
   "cell_type": "raw",
   "id": "8a59c82a",
   "metadata": {},
   "source": [
    "4. Statistical Parity Difference\n",
    "\n",
    "Protected Variable: Race\n",
    "Fairness Metric: Income Bracket\n",
    "\n",
    "Computed as the difference of the rate of favorable outcomes received by the unprivileged group to the privileged group.\n",
    "\n",
    "Rate of favorable outcome for the privileged group : 23285/(23285 + 5873) = 0.7985\n",
    "Rate of favorable outcome for the unprivileged group : 3352/(3352 + 465) = 0.8781\n",
    "Statistical Parity Difference Metric: 0.0796\n",
    "\n",
    "The ideal value of this metric is 0\n",
    "\n",
    "Fairness for this metric is between -0.1 and 0.1\n",
    "\n",
    "Thus, the metric shows that its fair."
   ]
  },
  {
   "cell_type": "markdown",
   "id": "a28f94aa",
   "metadata": {},
   "source": [
    "# Gender"
   ]
  },
  {
   "cell_type": "raw",
   "id": "fb8f8dbc",
   "metadata": {},
   "source": [
    "5. Disparate Impact Metric \n",
    "\n",
    "Protected Variable: Gender\n",
    "Fairness Metric: Salary Worthiness\n",
    "\n",
    "Computed as the ratio of rate of favorable outcome for the unprivileged group to that of the privileged group. \n",
    "\n",
    "Rate of favorable outcome for the privileged group : 16216/(16216 + 3582) = 0.8191\n",
    "Rate of favorable outcome for the unprivileged group : 12178/(12178 + 4276) = 0.7401\n",
    "Disparate Impact Metric : 0.9035\n",
    "\n",
    "The ideal value of this metric is 1.0. A value < 1 implies higher benefit for the privileged group and a value >1 implies a higher benefit for the unprivileged group.\n",
    "\n",
    "Thus, there is a higher benefit for the privileged group implying that there is a bias towards to the unprivileged group"
   ]
  },
  {
   "cell_type": "raw",
   "id": "08ea3567",
   "metadata": {},
   "source": [
    "6. Disparate Impact Metric \n",
    "\n",
    "Protected Variable: Gender\n",
    "Fairness Metric: Income Bracket\n",
    "\n",
    "Computed as the ratio of rate of favorable outcome for the unprivileged group to that of the privileged group. \n",
    "\n",
    "Rate of favorable outcome for the privileged group : 14825/(14825 + 4973) = 0.7417\n",
    "Rate of favorable outcome for the unprivileged group : 14346/(14346 + 2108) = 0.8718\n",
    "Disparate Impact Metric : 1.175\n",
    "\n",
    "The ideal value of this metric is 1.0. A value < 1 implies higher benefit for the privileged group and a value >1 implies a higher benefit for the unprivileged group.\n",
    "\n",
    "Thus, there is a higher benefit for the unprivileged group implying that there is a bias towards to the privileged group"
   ]
  },
  {
   "cell_type": "raw",
   "id": "e24af575",
   "metadata": {},
   "source": [
    "7. Statistical Parity Difference\n",
    "\n",
    "Protected Variable: Gender\n",
    "Fairness Metric: Salary Worthiness\n",
    "\n",
    "Computed as the difference of the rate of favorable outcomes received by the unprivileged group to the privileged group.\n",
    "\n",
    "Rate of favorable outcome for the privileged group : 16216/(16216 + 3582) = 0.8191\n",
    "Rate of favorable outcome for the unprivileged group : 12178/(12178 + 4276) = 0.7401\n",
    "Statistical Parity Difference Metric: - 0.079\n",
    "\n",
    "The ideal value of this metric is 0\n",
    "\n",
    "Fairness for this metric is between -0.1 and 0.1\n",
    "\n",
    "Thus, the metric shows that its fair."
   ]
  },
  {
   "cell_type": "raw",
   "id": "8979b5ed",
   "metadata": {},
   "source": [
    "8. Statistical Parity Difference\n",
    "\n",
    "Protected Variable: Gender\n",
    "Fairness Metric: Income Bracket\n",
    "    \n",
    "Computed as the difference of the rate of favorable outcomes received by the unprivileged group to the privileged group.\n",
    "\n",
    "Rate of favorable outcome for the privileged group : 14825/(14825 + 4973) = 0.7417\n",
    "Rate of favorable outcome for the unprivileged group : 14346/(14346 + 2108) = 0.8718\n",
    "Statistical Parity Difference Metric: 0.1301\n",
    "\n",
    "The ideal value of this metric is 0\n",
    "\n",
    "Fairness for this metric is between -0.1 and 0.1\n",
    "\n",
    "Thus, there is a bias towards the privileged group."
   ]
  },
  {
   "cell_type": "markdown",
   "id": "249fd395",
   "metadata": {},
   "source": [
    "# AGE-Group"
   ]
  },
  {
   "cell_type": "raw",
   "id": "aedf8a3d",
   "metadata": {},
   "source": [
    "9. Disparate Impact Metric \n",
    "\n",
    "Protected Variable: Age Group\n",
    "Fairness Metric: Salary Worthiness\n",
    "\n",
    "Computed as the ratio of rate of favorable outcome for the unprivileged group to that of the privileged group. \n",
    "\n",
    "Rate of favorable outcome for the privileged group : 5735/(5735 + 2643) = 0.6845\n",
    "Rate of favorable outcome for the unprivileged group : 7105/(7105 + 1291) = 0.8462\n",
    "Disparate Impact Metric : 1.236\n",
    "\n",
    "The ideal value of this metric is 1.0. A value < 1 implies higher benefit for the privileged group and a value >1 implies a higher benefit for the unprivileged group.\n",
    "\n",
    "Thus, there is a higher benefit for the unprivileged group implying that there is a bias towards to the privileged group"
   ]
  },
  {
   "cell_type": "raw",
   "id": "10dbc7f2",
   "metadata": {},
   "source": [
    "10. Disparate Impact Metric \n",
    "\n",
    "Protected Variable: Age Group\n",
    "Fairness Metric: Income Bracket\n",
    "\n",
    "Computed as the ratio of rate of favorable outcome for the unprivileged group to that of the privileged group. \n",
    "\n",
    "Rate of favorable outcome for the privileged group : 7919/(7919 + 459) = 0.9452\n",
    "Rate of favorable outcome for the unprivileged group : 6216/(6216 + 2180) = 0.7403\n",
    "Disparate Impact Metric : 0.7832\n",
    "\n",
    "The ideal value of this metric is 1.0. A value < 1 implies higher benefit for the privileged group and a value >1 implies a higher benefit for the unprivileged group.\n",
    "\n",
    "Thus, there is a higher benefit for the privileged group implying that there is a bias towards to the unprivileged group"
   ]
  },
  {
   "cell_type": "raw",
   "id": "f85a797a",
   "metadata": {},
   "source": [
    "11. Statistical Parity Difference\n",
    "\n",
    "Protected Variable: Age Group\n",
    "Fairness Metric: Salary Worthiness\n",
    "\n",
    "Computed as the difference of the rate of favorable outcomes received by the unprivileged group to the privileged group.\n",
    "\n",
    "Rate of favorable outcome for the privileged group : 5735/(5735 + 2643) = 0.6845\n",
    "Rate of favorable outcome for the unprivileged group : 7105/(7105 + 1291) = 0.8462\n",
    "Statistical Parity Difference Metric: 0.1617\n",
    "\n",
    "The ideal value of this metric is 0\n",
    "\n",
    "Fairness for this metric is between -0.1 and 0.1\n",
    "\n",
    "Thus, there is a higher benefit for the unprivileged group implying that there is a bias towards to the privileged group"
   ]
  },
  {
   "cell_type": "raw",
   "id": "21b9d37f",
   "metadata": {},
   "source": [
    "12. Statistical Parity Difference\n",
    "\n",
    "Protected Variable: Age Group\n",
    "Fairness Metric: Income Bracket\n",
    "    \n",
    "Computed as the difference of the rate of favorable outcomes received by the unprivileged group to the privileged group.\n",
    "\n",
    "Rate of favorable outcome for the privileged group : 7919/(7919 + 459) = 0.9452\n",
    "Rate of favorable outcome for the unprivileged group : 6216/(6216 + 2180) = 0.7403\n",
    "Statistical Parity Difference Metric: -0.2049\n",
    "\n",
    "The ideal value of this metric is 0\n",
    "\n",
    "Fairness for this metric is between -0.1 and 0.1\n",
    "\n",
    "Thus, there is a higher benefit for the privileged group implying that there is a bias towards to the unprivileged group"
   ]
  },
  {
   "cell_type": "markdown",
   "id": "6b39b8d8",
   "metadata": {},
   "source": [
    "# STEP 4"
   ]
  },
  {
   "cell_type": "code",
   "execution_count": null,
   "id": "ae965a79",
   "metadata": {},
   "outputs": [],
   "source": []
  }
 ],
 "metadata": {
  "kernelspec": {
   "display_name": "Python 3 (ipykernel)",
   "language": "python",
   "name": "python3"
  },
  "language_info": {
   "codemirror_mode": {
    "name": "ipython",
    "version": 3
   },
   "file_extension": ".py",
   "mimetype": "text/x-python",
   "name": "python",
   "nbconvert_exporter": "python",
   "pygments_lexer": "ipython3",
   "version": "3.10.0"
  }
 },
 "nbformat": 4,
 "nbformat_minor": 5
}
